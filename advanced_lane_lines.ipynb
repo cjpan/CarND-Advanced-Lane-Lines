{
 "cells": [
  {
   "cell_type": "markdown",
   "metadata": {},
   "source": [
    "## Advanced Lane Finding Project\n",
    "\n",
    "The goals / steps of this project are the following:\n",
    "\n",
    "* Compute the camera calibration matrix and distortion coefficients given a set of chessboard images.\n",
    "* Apply a distortion correction to raw images.\n",
    "* Use color transforms, gradients, etc., to create a thresholded binary image.\n",
    "* Apply a perspective transform to rectify binary image (\"birds-eye view\").\n",
    "* Detect lane pixels and fit to find the lane boundary.\n",
    "* Determine the curvature of the lane and vehicle position with respect to center.\n",
    "* Warp the detected lane boundaries back onto the original image.\n",
    "* Output visual display of the lane boundaries and numerical estimation of lane curvature and vehicle position."
   ]
  },
  {
   "cell_type": "markdown",
   "metadata": {},
   "source": [
    "## Imported libraries"
   ]
  },
  {
   "cell_type": "code",
   "execution_count": 8,
   "metadata": {
    "collapsed": true
   },
   "outputs": [],
   "source": [
    "import numpy as np\n",
    "import cv2\n",
    "import glob\n",
    "import pickle\n",
    "import matplotlib.pyplot as plt\n",
    "import matplotlib.image as mpimg\n",
    "%matplotlib qt5"
   ]
  },
  {
   "cell_type": "markdown",
   "metadata": {},
   "source": [
    "## Camera Calibration\n",
    "\n",
    "### Compute the camera calibration matrix and distortion coefficients"
   ]
  },
  {
   "cell_type": "code",
   "execution_count": 5,
   "metadata": {
    "collapsed": false
   },
   "outputs": [
    {
     "name": "stdout",
     "output_type": "stream",
     "text": [
      "Found object points and image points in: ./camera_cal\\calibration10.jpg\n",
      "Write ChessboardCorners to: ./camera_cal/found/calibration10.jpg\n",
      "Found object points and image points in: ./camera_cal\\calibration11.jpg\n",
      "Write ChessboardCorners to: ./camera_cal/found/calibration11.jpg\n",
      "Found object points and image points in: ./camera_cal\\calibration12.jpg\n",
      "Write ChessboardCorners to: ./camera_cal/found/calibration12.jpg\n",
      "Found object points and image points in: ./camera_cal\\calibration13.jpg\n",
      "Write ChessboardCorners to: ./camera_cal/found/calibration13.jpg\n",
      "Found object points and image points in: ./camera_cal\\calibration14.jpg\n",
      "Write ChessboardCorners to: ./camera_cal/found/calibration14.jpg\n",
      "Found object points and image points in: ./camera_cal\\calibration15.jpg\n",
      "Write ChessboardCorners to: ./camera_cal/found/calibration15.jpg\n",
      "Found object points and image points in: ./camera_cal\\calibration16.jpg\n",
      "Write ChessboardCorners to: ./camera_cal/found/calibration16.jpg\n",
      "Found object points and image points in: ./camera_cal\\calibration17.jpg\n",
      "Write ChessboardCorners to: ./camera_cal/found/calibration17.jpg\n",
      "Found object points and image points in: ./camera_cal\\calibration18.jpg\n",
      "Write ChessboardCorners to: ./camera_cal/found/calibration18.jpg\n",
      "Found object points and image points in: ./camera_cal\\calibration19.jpg\n",
      "Write ChessboardCorners to: ./camera_cal/found/calibration19.jpg\n",
      "Found object points and image points in: ./camera_cal\\calibration2.jpg\n",
      "Write ChessboardCorners to: ./camera_cal/found/calibration2.jpg\n",
      "Found object points and image points in: ./camera_cal\\calibration20.jpg\n",
      "Write ChessboardCorners to: ./camera_cal/found/calibration20.jpg\n",
      "Found object points and image points in: ./camera_cal\\calibration3.jpg\n",
      "Write ChessboardCorners to: ./camera_cal/found/calibration3.jpg\n",
      "Found object points and image points in: ./camera_cal\\calibration6.jpg\n",
      "Write ChessboardCorners to: ./camera_cal/found/calibration6.jpg\n",
      "Found object points and image points in: ./camera_cal\\calibration7.jpg\n",
      "Write ChessboardCorners to: ./camera_cal/found/calibration7.jpg\n",
      "Found object points and image points in: ./camera_cal\\calibration8.jpg\n",
      "Write ChessboardCorners to: ./camera_cal/found/calibration8.jpg\n",
      "Found object points and image points in: ./camera_cal\\calibration9.jpg\n",
      "Write ChessboardCorners to: ./camera_cal/found/calibration9.jpg\n",
      "Camera Calibration done!\n"
     ]
    }
   ],
   "source": [
    "# prepare object points, like (0,0,0), (1,0,0), (2,0,0) ....,(6,5,0)\n",
    "objp = np.zeros((6*9,3), np.float32)\n",
    "objp[:,:2] = np.mgrid[0:9,0:6].T.reshape(-1,2)\n",
    "\n",
    "# Arrays to store object points and image points from all the images.\n",
    "objpoints = [] # 3d points in real world space\n",
    "imgpoints = [] # 2d points in image plane.\n",
    "\n",
    "# Make a list of calibration images\n",
    "images = glob.glob('./camera_cal/calibration*.jpg')\n",
    "\n",
    "# Step through the list and search for chessboard corners\n",
    "for fname in images:\n",
    "    img = cv2.imread(fname)\n",
    "    gray = cv2.cvtColor(img,cv2.COLOR_BGR2GRAY)\n",
    "    # Find the chessboard corners\n",
    "    ret, corners = cv2.findChessboardCorners(gray, (9,6),None)\n",
    "\n",
    "    # If found, add object points, image points\n",
    "    if ret == True:\n",
    "        print('Found object points and image points in: ' + fname)\n",
    "        objpoints.append(objp)\n",
    "        imgpoints.append(corners)\n",
    "        \n",
    "        # Draw and display the corners\n",
    "        img = cv2.drawChessboardCorners(img, (9,6), corners, ret)\n",
    "        output_fname = './camera_cal/found/' + fname.split('\\\\')[-1]\n",
    "        print('Write ChessboardCorners to: ' + output_fname)\n",
    "\n",
    "img = cv2.imread(images[0])        \n",
    "img_size = (img.shape[1], img.shape[0])\n",
    "ret, mtx, dist, rvecs, tvecs = cv2.calibrateCamera(objpoints, imgpoints, img_size, None, None)\n",
    "\n",
    "dist_pickle = {}\n",
    "dist_pickle['mtx'] = mtx\n",
    "dist_pickle['dist'] = dist\n",
    "pickle.dump( dist_pickle, open( \"./calibration_pickle.p\", \"wb\" ))\n",
    "\n",
    "print('Camera Calibration done!')"
   ]
  },
  {
   "cell_type": "markdown",
   "metadata": {},
   "source": [
    "### Apply a distortion correction to raw images"
   ]
  },
  {
   "cell_type": "code",
   "execution_count": 16,
   "metadata": {
    "collapsed": false
   },
   "outputs": [
    {
     "data": {
      "text/plain": [
       "<matplotlib.image.AxesImage at 0x235009757f0>"
      ]
     },
     "execution_count": 16,
     "metadata": {},
     "output_type": "execute_result"
    }
   ],
   "source": [
    "dist_img = mpimg.imread('./camera_cal/calibration2.jpg')\n",
    "\n",
    "undist_img = cv2.undistort(dist_img, mtx, dist, None, mtx)\n",
    "\n",
    "plt.figure(figsize=(2, 1))\n",
    "\n",
    "plt.subplot(1, 2, 1)\n",
    "plt.title('dist')\n",
    "plt.imshow(dist_img)\n",
    "#plt.axis(\"off\")\n",
    "\n",
    "plt.subplot(1, 2, 2)\n",
    "plt.title('undist')\n",
    "plt.imsave('output_images/calibration2.jpg', undist_img)\n",
    "plt.imshow(undist_img)"
   ]
  },
  {
   "cell_type": "markdown",
   "metadata": {},
   "source": [
    "## Image Pipeline"
   ]
  },
  {
   "cell_type": "code",
   "execution_count": 5,
   "metadata": {
    "collapsed": false
   },
   "outputs": [],
   "source": [
    "import pickle\n",
    "import cv2\n",
    "import matplotlib.pyplot as plt\n",
    "import matplotlib.image as mpimg\n",
    "import numpy as np\n",
    "%matplotlib qt5\n",
    "\n",
    "fname = \"./test_images/test2.jpg\"\n",
    "image = mpimg.imread(fname)"
   ]
  },
  {
   "cell_type": "markdown",
   "metadata": {},
   "source": [
    "### Undistortion"
   ]
  },
  {
   "cell_type": "markdown",
   "metadata": {
    "collapsed": false
   },
   "source": [
    "def undistort_image(dist_img):\n",
    "    dist_pickel = pickle.load(open(\"./calibration_pickle.p\", \"rb\"))\n",
    "    mtx = dist_pickel[\"mtx\"]\n",
    "    dist = dist_pickel[\"dist\"]\n",
    "            \n",
    "    undist_img = cv2.undistort(dist_img, mtx, dist, None, mtx)\n",
    "    \n",
    "    return undist_img\n",
    "\n",
    "undist_img = undistort_image(image)\n",
    "\n",
    "output_fname = \"./output_images/\" + fname.split('/')[-1]\n",
    "output_img = cv2.cvtColor(undist_img, cv2.COLOR_RGB2BGR)\n",
    "cv2.imwrite(output_fname, output_img)\n",
    "\n",
    "plt.figure(figsize=(20, 10))\n",
    "plt.subplot(1, 2, 1)\n",
    "plt.title('raw test image')\n",
    "plt.imshow(image)\n",
    "plt.subplot(1, 2, 2)\n",
    "plt.title('undistorted image')\n",
    "plt.imshow(undist_img)"
   ]
  },
  {
   "cell_type": "markdown",
   "metadata": {},
   "source": [
    "### Create a thresholded binary image."
   ]
  },
  {
   "cell_type": "code",
   "execution_count": 66,
   "metadata": {
    "collapsed": false
   },
   "outputs": [
    {
     "data": {
      "text/plain": [
       "<matplotlib.text.Text at 0x19216095c18>"
      ]
     },
     "execution_count": 66,
     "metadata": {},
     "output_type": "execute_result"
    }
   ],
   "source": [
    "def binary_threshold(img, s_thresh=(120, 255), sx_thresh=(20, 100)):\n",
    "    out_img = np.copy(img)\n",
    "    # Convert to HLS color space and separate the S channel\n",
    "    hls = cv2.cvtColor(out_img, cv2.COLOR_RGB2HLS).astype(np.float)\n",
    "    s_channel = hls[:,:,2]\n",
    "    # Sobel x\n",
    "    gray = cv2.cvtColor(img, cv2.COLOR_RGB2GRAY).astype(np.float)\n",
    "    sobelx = cv2.Sobel(gray, cv2.CV_64F, 1, 0) # Take the derivative in x\n",
    "    abs_sobelx = np.absolute(sobelx) # Absolute x derivative to accentuate lines away from horizontal\n",
    "    scaled_sobel = np.uint8(255*abs_sobelx/np.max(abs_sobelx))\n",
    "    \n",
    "    # Threshold x gradient\n",
    "    sxbinary = np.zeros_like(scaled_sobel)\n",
    "    sxbinary[(scaled_sobel >= sx_thresh[0]) & (scaled_sobel <= sx_thresh[1])] = 1\n",
    "    \n",
    "    # Threshold color channel\n",
    "    s_binary = np.zeros_like(s_channel)\n",
    "    s_binary[(s_channel >= s_thresh[0]) & (s_channel <= s_thresh[1])] = 1\n",
    "    # Stack each channel\n",
    "    # Note color_binary[:, :, 0] is all 0s, effectively an all black image. It might\n",
    "    # be beneficial to replace this channel with something else.\n",
    "    color_binary = np.dstack(( np.zeros_like(sxbinary), sxbinary, s_binary))\n",
    "    \n",
    "    combined_binary = np.zeros_like(sxbinary)\n",
    "    combined_binary[(s_binary == 1) | (sxbinary == 1)] = 1\n",
    "    \n",
    "    return color_binary, combined_binary\n",
    "\n",
    "color_binary, combined_binary = binary_threshold(undist_img)\n",
    "\n",
    "plt.figure(figsize=(20, 10))\n",
    "plt.subplot(1, 2, 1)\n",
    "plt.title('stacked thresholded image')\n",
    "plt.imshow(color_binary)\n",
    "plt.subplot(1, 2, 2)\n",
    "plt.title('combined thresholded image')\n",
    "plt.imshow(combined_binary, cmap='gray')"
   ]
  },
  {
   "cell_type": "markdown",
   "metadata": {},
   "source": [
    "### Apply a perspective transform to rectify binary image (\"birds-eye view\")"
   ]
  },
  {
   "cell_type": "code",
   "execution_count": 69,
   "metadata": {
    "collapsed": false
   },
   "outputs": [
    {
     "data": {
      "text/plain": [
       "<matplotlib.image.AxesImage at 0x19220e61128>"
      ]
     },
     "execution_count": 69,
     "metadata": {},
     "output_type": "execute_result"
    }
   ],
   "source": [
    "def warp(img, src, dst, inverse=False):\n",
    "    if inverse:\n",
    "        M = cv2.getPerspectiveTransform(dst, src)\n",
    "    else:\n",
    "        M = cv2.getPerspectiveTransform(src, dst)\n",
    "    transformed = cv2.warpPerspective(img, M, (img.shape[1], img.shape[0]))\n",
    "    \n",
    "    return transformed\n",
    "\n",
    "src = np.float32([[200,720], [1125,720], [685, 450], [595,450]])\n",
    "dst = np.float32([[320,720], [1000,720], [1000,0], [320, 0]])\n",
    "\n",
    "fname = \"./output_images/straight_lines1.jpg\"\n",
    "src_img = mpimg.imread(fname)\n",
    "\n",
    "dst_img = warp(src_img, src, dst, False)\n",
    "\n",
    "src_pts = src.reshape((-1, 1, 2)).astype(\"int32\")\n",
    "dst_pts = dst.reshape((-1, 1, 2)).astype(\"int32\")\n",
    "cv2.polylines(src_img, [src_pts], True, (0, 255, 255), thickness=5)\n",
    "cv2.polylines(dst_img, [dst_pts], True, (255, 0, 255), thickness=5)\n",
    "\n",
    "plt.figure(figsize=(20, 10))\n",
    "plt.subplot(1, 2, 1)\n",
    "plt.title('src image')\n",
    "plt.imshow(src_img)\n",
    "plt.subplot(1, 2, 2)\n",
    "plt.title('warped image')\n",
    "plt.imshow(dst_img)"
   ]
  },
  {
   "cell_type": "code",
   "execution_count": 68,
   "metadata": {
    "collapsed": false
   },
   "outputs": [
    {
     "data": {
      "text/plain": [
       "<matplotlib.image.AxesImage at 0x19225f9be48>"
      ]
     },
     "execution_count": 68,
     "metadata": {},
     "output_type": "execute_result"
    }
   ],
   "source": [
    "binary_warped = warp(combined_binary, src, dst, False)\n",
    "\n",
    "plt.figure(figsize=(20, 10))\n",
    "plt.subplot(1, 2, 1)\n",
    "plt.title('thresholded image')\n",
    "plt.imshow(combined_binary, cmap='gray')\n",
    "plt.subplot(1, 2, 2)\n",
    "plt.title('warped thresholded image')\n",
    "plt.imshow(binary_warped, cmap='gray')"
   ]
  },
  {
   "cell_type": "markdown",
   "metadata": {},
   "source": [
    "### Histogram to identify the peak"
   ]
  },
  {
   "cell_type": "code",
   "execution_count": 91,
   "metadata": {
    "collapsed": false
   },
   "outputs": [
    {
     "data": {
      "text/plain": [
       "[<matplotlib.lines.Line2D at 0x2353c718d30>]"
      ]
     },
     "execution_count": 91,
     "metadata": {},
     "output_type": "execute_result"
    }
   ],
   "source": [
    "histogram = np.sum(binary_warped[binary_warped.shape[0]//2:,:], axis=0)\n",
    "plt.plot(histogram)"
   ]
  },
  {
   "cell_type": "markdown",
   "metadata": {},
   "source": [
    "### Sliding window search to fit the lane"
   ]
  },
  {
   "cell_type": "code",
   "execution_count": 33,
   "metadata": {
    "collapsed": false
   },
   "outputs": [
    {
     "data": {
      "text/plain": [
       "(720, 0)"
      ]
     },
     "execution_count": 33,
     "metadata": {},
     "output_type": "execute_result"
    }
   ],
   "source": [
    "def sliding_window_search(img):\n",
    "    # Create an output image to draw on and  visualize the result\n",
    "    out_img = np.dstack((img, img, img))*255\n",
    "    # Find the peak of the left and right halves of the histogram\n",
    "    # These will be the starting point for the left and right lines\n",
    "    histogram = np.sum(img[img.shape[0]//2:,:], axis=0)\n",
    "    midpoint = np.int(histogram.shape[0]/2)\n",
    "    left_bound = 150\n",
    "    right_bound = 1150\n",
    "    leftx_base = np.argmax(histogram[left_bound:midpoint]) + left_bound\n",
    "    rightx_base = np.argmax(histogram[midpoint:right_bound]) + midpoint\n",
    "    #print(leftx_base, rightx_base, midpoint)\n",
    "\n",
    "    # Choose the number of sliding windows\n",
    "    nwindows = 9\n",
    "    # Set height of windows\n",
    "    window_height = np.int(img.shape[0]/nwindows)\n",
    "    # Identify the x and y positions of all nonzero pixels in the image\n",
    "    nonzero = img.nonzero()\n",
    "    nonzeroy = np.array(nonzero[0])\n",
    "    nonzerox = np.array(nonzero[1])\n",
    "    # Current positions to be updated for each window\n",
    "    leftx_current = leftx_base\n",
    "    rightx_current = rightx_base\n",
    "    # Set the width of the windows +/- margin\n",
    "    margin = 100\n",
    "    # Set minimum number of pixels found to recenter window\n",
    "    minpix = 50\n",
    "    # Create empty lists to receive left and right lane pixel indices\n",
    "    left_lane_inds = []\n",
    "    right_lane_inds = []\n",
    "\n",
    "    # Step through the windows one by one\n",
    "    for window in range(nwindows):\n",
    "        # Identify window boundaries in x and y (and right and left)\n",
    "        win_y_low = img.shape[0] - (window+1)*window_height\n",
    "        win_y_high = img.shape[0] - window*window_height\n",
    "        #print(win_y_low, win_y_high)\n",
    "        win_xleft_low = leftx_current - margin\n",
    "        win_xleft_high = leftx_current + margin\n",
    "        #print(win_xleft_low, win_xleft_high)\n",
    "        \n",
    "        win_xright_low = rightx_current - margin\n",
    "        win_xright_high = rightx_current + margin\n",
    "       \n",
    "        # Draw the windows on the visualization image\n",
    "        cv2.rectangle(out_img,(win_xleft_low,win_y_low),(win_xleft_high,win_y_high),(0,255,0), 2) \n",
    "        cv2.rectangle(out_img,(win_xright_low,win_y_low),(win_xright_high,win_y_high),(0,255,0), 2) \n",
    "        # Identify the nonzero pixels in x and y within the window\n",
    "        good_left_inds = ((nonzeroy >= win_y_low) & (nonzeroy < win_y_high) & (nonzerox >= win_xleft_low) & (nonzerox < win_xleft_high)).nonzero()[0]\n",
    "        good_right_inds = ((nonzeroy >= win_y_low) & (nonzeroy < win_y_high) & (nonzerox >= win_xright_low) & (nonzerox < win_xright_high)).nonzero()[0]\n",
    "        # Append these indices to the lists\n",
    "        #print(good_left_inds)\n",
    "        left_lane_inds.append(good_left_inds)\n",
    "        right_lane_inds.append(good_right_inds)\n",
    "        # If you found > minpix pixels, recenter next window on their mean position\n",
    "        if len(good_left_inds) > minpix:\n",
    "            leftx_current = np.int(np.mean(nonzerox[good_left_inds]))\n",
    "        else:\n",
    "            if len(nonzerox[np.concatenate(left_lane_inds)]):\n",
    "                leftx_current = np.int(np.mean(nonzerox[np.concatenate(left_lane_inds)]))\n",
    "        if len(good_right_inds) > minpix:        \n",
    "            rightx_current = np.int(np.mean(nonzerox[good_right_inds]))\n",
    "        else:\n",
    "            if len(nonzerox[np.concatenate(right_lane_inds)]):\n",
    "                rightx_current = np.int(np.mean(nonzerox[np.concatenate(right_lane_inds)]))\n",
    "        #print(nonzerox[good_right_inds])\n",
    "        #print(rightx_current)\n",
    "    # Concatenate the arrays of indices\n",
    "    #print(left_lane_inds)\n",
    "    left_lane_inds = np.concatenate(left_lane_inds)\n",
    "    #print(left_lane_inds)\n",
    "    right_lane_inds = np.concatenate(right_lane_inds)\n",
    "\n",
    "    # Extract left and right line pixel positions\n",
    "    leftx = nonzerox[left_lane_inds]\n",
    "    lefty = nonzeroy[left_lane_inds] \n",
    "    rightx = nonzerox[right_lane_inds]\n",
    "    righty = nonzeroy[right_lane_inds]\n",
    "    \n",
    "    # Fit a second order polynomial to each\n",
    "    left_fit = np.polyfit(lefty, leftx, 2)\n",
    "    right_fit = np.polyfit(righty, rightx, 2)\n",
    "    \n",
    "    out_img[lefty, leftx] = [255, 0, 0]\n",
    "    out_img[righty, rightx] = [0, 0, 255]\n",
    "    \n",
    "    return left_fit, right_fit, out_img\n",
    "\n",
    "left_fit, right_fit, out_img = sliding_window_search(binary_warped)\n",
    "\n",
    "# Generate x and y values for plotting\n",
    "ploty = np.linspace(0, out_img.shape[0]-1, out_img.shape[0])\n",
    "left_fitx = left_fit[0]*ploty**2 + left_fit[1]*ploty + left_fit[2]\n",
    "right_fitx = right_fit[0]*ploty**2 + right_fit[1]*ploty + right_fit[2]\n",
    "\n",
    "plt.imshow(out_img)\n",
    "plt.plot(left_fitx, ploty, color='yellow')\n",
    "plt.plot(right_fitx, ploty, color='yellow')\n",
    "plt.xlim(0, 1280)\n",
    "plt.ylim(720, 0)"
   ]
  },
  {
   "cell_type": "markdown",
   "metadata": {},
   "source": [
    "### To get curve radius"
   ]
  },
  {
   "cell_type": "code",
   "execution_count": 34,
   "metadata": {
    "collapsed": false
   },
   "outputs": [
    {
     "name": "stdout",
     "output_type": "stream",
     "text": [
      "353.475961528 m\n"
     ]
    }
   ],
   "source": [
    "def get_curverad(left_fit, right_fit):\n",
    "    # Define conversions in x and y from pixels space to meters\n",
    "    ym_per_pix = 30/720 # meters per pixel in y dimension\n",
    "    xm_per_pix = 3.7/700 # meters per pixel in x dimension\n",
    "    \n",
    "    ploty = np.linspace(0, out_img.shape[0]-1, out_img.shape[0])\n",
    "    y_eval = np.max(ploty)\n",
    "    leftx = left_fit[0]*ploty**2 + left_fit[1]*ploty + left_fit[2]\n",
    "    rightx = right_fit[0]*ploty**2 + right_fit[1]*ploty + right_fit[2]\n",
    "\n",
    "    # Fit new polynomials to x,y in world space\n",
    "    left_fit_cr = np.polyfit(ploty*ym_per_pix, leftx*xm_per_pix, 2)\n",
    "    right_fit_cr = np.polyfit(ploty*ym_per_pix, rightx*xm_per_pix, 2)\n",
    "    # Calculate the new radii of curvature\n",
    "    left_curverad = ((1 + (2*left_fit_cr[0]*y_eval*ym_per_pix + left_fit_cr[1])**2)**1.5) / np.absolute(2*left_fit_cr[0])\n",
    "    right_curverad = ((1 + (2*right_fit_cr[0]*y_eval*ym_per_pix + right_fit_cr[1])**2)**1.5) / np.absolute(2*right_fit_cr[0])\n",
    "    curverad = (left_curverad + right_curverad) / 2\n",
    "    \n",
    "    return curverad\n",
    "\n",
    "curverad = get_curverad(left_fit, right_fit)\n",
    "# Now our radius of curvature is in meters\n",
    "print(curverad, 'm')"
   ]
  },
  {
   "cell_type": "markdown",
   "metadata": {},
   "source": [
    "### To get lane offset"
   ]
  },
  {
   "cell_type": "code",
   "execution_count": 35,
   "metadata": {
    "collapsed": false
   },
   "outputs": [
    {
     "name": "stdout",
     "output_type": "stream",
     "text": [
      "-0.39361778912 m\n"
     ]
    }
   ],
   "source": [
    "def get_offset(left_fit, right_fit):\n",
    "    lane_width = 3.7 # metres\n",
    "    h = 720\n",
    "    w = 1280\n",
    "\n",
    "    left_pix = left_fit[0] * h ** 2 + left_fit[1] * h + left_fit[2]\n",
    "    right_pix = right_fit[0] * h ** 2 + right_fit[1] * h + right_fit[2]\n",
    "    \n",
    "    scale = lane_width / np.abs(left_pix - right_pix)\n",
    "    \n",
    "    midpoint = np.mean([left_pix, right_pix])\n",
    "    \n",
    "    offset = (w / 2 - midpoint) * scale\n",
    "    return offset\n",
    "\n",
    "offset = get_offset(left_fit, right_fit)\n",
    "# Now our radius of curvature is in meters\n",
    "print(offset, 'm')"
   ]
  },
  {
   "cell_type": "markdown",
   "metadata": {},
   "source": [
    "### Highlight the lane line in the image"
   ]
  },
  {
   "cell_type": "code",
   "execution_count": 38,
   "metadata": {
    "collapsed": false
   },
   "outputs": [
    {
     "data": {
      "text/plain": [
       "<matplotlib.image.AxesImage at 0x19213f39320>"
      ]
     },
     "execution_count": 38,
     "metadata": {},
     "output_type": "execute_result"
    }
   ],
   "source": [
    "def draw_lines(warped, undist, left_fit, right_fit):\n",
    "    # Create an image to draw the lines on\n",
    "    warp_zero = np.zeros_like(warped).astype(np.uint8)\n",
    "    color_warp = np.dstack((warp_zero, warp_zero, warp_zero))\n",
    "    \n",
    "    ploty = np.linspace(0, undist.shape[0]-1, undist.shape[0])\n",
    "    left_fitx = left_fit[0]*ploty**2 + left_fit[1]*ploty + left_fit[2]\n",
    "    right_fitx = right_fit[0]*ploty**2 + right_fit[1]*ploty + right_fit[2]\n",
    "\n",
    "    # Recast the x and y points into usable format for cv2.fillPoly()\n",
    "    pts_left = np.array([np.transpose(np.vstack([left_fitx, ploty]))])\n",
    "    pts_right = np.array([np.flipud(np.transpose(np.vstack([right_fitx, ploty])))])\n",
    "    pts = np.hstack((pts_left, pts_right))\n",
    "\n",
    "    # Draw the lane onto the warped blank image\n",
    "    cv2.fillPoly(color_warp, np.int_([pts]), (0,255, 0))\n",
    "\n",
    "    newwarp = warp(color_warp, src, dst, True)\n",
    "    # Combine the result with the original image\n",
    "    result = cv2.addWeighted(undist, 1, newwarp, 0.3, 0)\n",
    "    \n",
    "    curverad = get_curverad(left_fit, right_fit)\n",
    "    curvature_text = \"Curvature: \" + str(np.round(curverad, 2)) \n",
    "    font = cv2.FONT_HERSHEY_COMPLEX    \n",
    "    cv2.putText(result, curvature_text, (30, 60), font, 1, (0,255,0), 2)\n",
    "    \n",
    "    offset = get_offset(left_fit, right_fit)\n",
    "    offset_text = \"Lane offset from center = {:.2f} m\".format(offset) \n",
    "    font = cv2.FONT_HERSHEY_COMPLEX    \n",
    "    cv2.putText(result, offset_text, (30, 90), font, 1, (0,255,0), 2)\n",
    "    \n",
    "    return result\n",
    "    \n",
    "result = draw_lines(binary_warped, undist_img, left_fit, right_fit)\n",
    "plt.imshow(result)"
   ]
  },
  {
   "cell_type": "markdown",
   "metadata": {},
   "source": [
    "### Pipeline"
   ]
  },
  {
   "cell_type": "code",
   "execution_count": 72,
   "metadata": {
    "collapsed": true
   },
   "outputs": [],
   "source": [
    "last_left_fit = None\n",
    "last_right_fit = None\n",
    "\n",
    "def process_image(image):\n",
    "    \"\"\"\n",
    "    Execute our image processing pipeline on the provided image.\n",
    "    \"\"\"\n",
    "    global last_left_fit, last_right_fit\n",
    "    alpha = 0.2\n",
    "    \n",
    "    undistorted = undistort_image(image)\n",
    "    _, combined_binary = binary_threshold(undistorted, (150, 255), (20, 100))\n",
    "    \n",
    "    src = np.float32([[200,720], [1125,720], [685, 450], [595,450]])\n",
    "    dst = np.float32([[320,720], [1000,720], [1000,0], [320, 0]])\n",
    "    binary_warped = warp(combined_binary, src, dst, False)\n",
    "\n",
    "    left_fit, right_fit, _ = sliding_window_search(binary_warped)\n",
    "    \n",
    "    if last_left_fit is not None:\n",
    "        left_fit = (1 - alpha) * last_left_fit +  alpha * left_fit\n",
    "        right_fit = last_right_fit * (1 - alpha) + right_fit * alpha\n",
    "\n",
    "    last_left_fit = left_fit\n",
    "    last_right_fit = right_fit\n",
    "    \n",
    "    result = draw_lines(binary_warped, undistorted, left_fit, right_fit)\n",
    "    \n",
    "    return result"
   ]
  },
  {
   "cell_type": "code",
   "execution_count": 60,
   "metadata": {
    "collapsed": false
   },
   "outputs": [],
   "source": [
    "# Run on a test image\n",
    "img = cv2.imread(\"test_images/test6.jpg\")\n",
    "img = cv2.cvtColor(img, cv2.COLOR_BGR2RGB)\n",
    "\n",
    "result = process_image(img)\n",
    "\n",
    "plt.figure(figsize=(16,8))\n",
    "plt.imshow(result)\n",
    "plt.axis(\"off\");"
   ]
  },
  {
   "cell_type": "markdown",
   "metadata": {},
   "source": [
    "### To generate the video"
   ]
  },
  {
   "cell_type": "code",
   "execution_count": 71,
   "metadata": {
    "collapsed": false
   },
   "outputs": [
    {
     "name": "stdout",
     "output_type": "stream",
     "text": [
      "[MoviePy] >>>> Building video output_images/project_video.mp4\n",
      "[MoviePy] Writing video output_images/project_video.mp4\n"
     ]
    },
    {
     "name": "stderr",
     "output_type": "stream",
     "text": [
      "100%|█████████████████████████████████████████████████████████████████████████████▉| 1260/1261 [04:17<00:00,  5.01it/s]\n"
     ]
    },
    {
     "name": "stdout",
     "output_type": "stream",
     "text": [
      "[MoviePy] Done.\n",
      "[MoviePy] >>>> Video ready: output_images/project_video.mp4 \n",
      "\n",
      "Wall time: 4min 19s\n"
     ]
    }
   ],
   "source": [
    "# Import everything needed to edit/save/watch video clips\n",
    "from moviepy.editor import VideoFileClip\n",
    "from IPython.display import HTML\n",
    "\n",
    "video_output = \"output_images/project_video.mp4\"\n",
    "clip1 = VideoFileClip(\"project_video.mp4\", audio=False)\n",
    "clip1_output = clip1.fl_image(process_image) #NOTE: this function expects color images!!\n",
    "%time clip1_output.write_videofile(video_output, audio=False)"
   ]
  },
  {
   "cell_type": "code",
   "execution_count": 49,
   "metadata": {
    "collapsed": false
   },
   "outputs": [
    {
     "data": {
      "text/html": [
       "\n",
       "<video width=\"960\" height=\"540\" controls>\n",
       "  <source src=\"output_images/project_video.mp4\">\n",
       "</video>\n"
      ],
      "text/plain": [
       "<IPython.core.display.HTML object>"
      ]
     },
     "execution_count": 49,
     "metadata": {},
     "output_type": "execute_result"
    }
   ],
   "source": [
    "HTML(\"\"\"\n",
    "<video width=\"960\" height=\"540\" controls>\n",
    "  <source src=\"{0}\">\n",
    "</video>\n",
    "\"\"\".format(video_output))"
   ]
  },
  {
   "cell_type": "code",
   "execution_count": null,
   "metadata": {
    "collapsed": true
   },
   "outputs": [],
   "source": []
  }
 ],
 "metadata": {
  "anaconda-cloud": {},
  "kernelspec": {
   "display_name": "Python [conda root]",
   "language": "python",
   "name": "conda-root-py"
  },
  "language_info": {
   "codemirror_mode": {
    "name": "ipython",
    "version": 3
   },
   "file_extension": ".py",
   "mimetype": "text/x-python",
   "name": "python",
   "nbconvert_exporter": "python",
   "pygments_lexer": "ipython3",
   "version": "3.5.2"
  }
 },
 "nbformat": 4,
 "nbformat_minor": 1
}
